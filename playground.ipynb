{
 "cells": [
  {
   "cell_type": "code",
   "execution_count": 424,
   "metadata": {},
   "outputs": [],
   "source": [
    "import json\n",
    "import gurobipy as gp\n",
    "from math import ceil"
   ]
  },
  {
   "cell_type": "code",
   "execution_count": 425,
   "metadata": {},
   "outputs": [],
   "source": [
    "inst_name = \"large\"\n",
    "with open(f\"instances/{inst_name}.json\", \"r\") as f:\n",
    "    inst = json.load(f)\n",
    "\n",
    "Pmax = inst[\"general_parameters\"][\"maximum_power\"]\n",
    "c0 = inst[\"general_parameters\"][\"curtailing_cost\"]\n",
    "cp = inst[\"general_parameters\"][\"curtailing_penalty\"]\n",
    "Cmax = inst[\"general_parameters\"][\"maximum_curtailing\"]\n",
    "cft = inst[\"general_parameters\"][\"fixed_cost_cable\"]\n",
    "clt = inst[\"general_parameters\"][\"variable_cost_cable\"]\n",
    "v0 = inst[\"general_parameters\"][\"main_land_station\"]\n",
    "\n",
    "cs = {v[\"id\"]: v[\"cost\"] for v in inst[\"substation_types\"]}\n",
    "rs = {v[\"id\"]: v[\"rating\"] for v in inst[\"substation_types\"]}\n",
    "ps = {v[\"id\"]: v[\"probability_of_failure\"] for v in inst[\"substation_types\"]}\n",
    "\n",
    "ls_cfq = {v[\"id\"]: v[\"fixed_cost\"] for v in inst[\"land_substation_cable_types\"]}\n",
    "ls_clq = {v[\"id\"]: v[\"variable_cost\"] for v in inst[\"land_substation_cable_types\"]}\n",
    "ls_pq = {v[\"id\"]: v[\"probability_of_failure\"] for v in inst[\"land_substation_cable_types\"]}\n",
    "ls_rq = {v[\"id\"]: v[\"rating\"] for v in inst[\"land_substation_cable_types\"]}\n",
    "\n",
    "ss_cfq = {v[\"id\"]: v[\"fixed_cost\"] for v in inst[\"substation_substation_cable_types\"]}\n",
    "ss_clq = {v[\"id\"]: v[\"variable_cost\"] for v in inst[\"substation_substation_cable_types\"]}\n",
    "ss_rq = {v[\"id\"]: v[\"rating\"] for v in inst[\"substation_substation_cable_types\"]}\n",
    "\n",
    "Vs = {v[\"id\"]: {'x': v['x'], 'y': v['y']} for v in inst[\"substation_locations\"]}\n",
    "Vt = {v[\"id\"]: {'x': v['x'], 'y': v['y']} for v in inst[\"wind_turbines\"]}\n",
    "\n",
    "S = cs.keys()\n",
    "Q0 = ls_rq.keys()\n",
    "Qs = ss_rq.keys()"
   ]
  },
  {
   "cell_type": "code",
   "execution_count": 426,
   "metadata": {},
   "outputs": [],
   "source": [
    "def dist(u, v):\n",
    "    return ((u[\"x\"] - v[\"x\"])**2 + (u[\"y\"] - v[\"y\"])**2)**0.5"
   ]
  },
  {
   "cell_type": "code",
   "execution_count": 427,
   "metadata": {},
   "outputs": [],
   "source": [
    "# set E_0 of edges\n",
    "E0 = {}\n",
    "for id, v in Vs.items():\n",
    "    E0[(0, id)] = dist(v0, v)\n",
    "# set E_t of edges\n",
    "Et = {}\n",
    "for ids, s in Vs.items():\n",
    "    for idt, t in Vt.items():\n",
    "        Et[(ids, idt)] = dist(s, t)\n",
    "# set E_s of edges\n",
    "Es = {}\n",
    "for ids1, s1 in Vs.items():\n",
    "    for ids2, s2 in Vs.items():\n",
    "        if ids1 < ids2:\n",
    "            Es[(ids1, ids2)] = dist(s1, s2)"
   ]
  },
  {
   "cell_type": "code",
   "execution_count": 428,
   "metadata": {},
   "outputs": [],
   "source": [
    "ss_ceq = {}\n",
    "for e in Es:\n",
    "    for q in Qs:\n",
    "        ss_ceq[(e,q)] = ss_cfq[q] + ss_clq[q]*Es[e]\n",
    "ls_ceq = {}\n",
    "for e in E0:\n",
    "    for q in Q0:\n",
    "        ls_ceq[(e,q)] = ls_cfq[q] + ls_clq[q]*E0[e]\n",
    "\n",
    "ce = {}\n",
    "for e in Et:\n",
    "    ce[e] = cft + clt*Et[e]"
   ]
  },
  {
   "cell_type": "code",
   "execution_count": 429,
   "metadata": {},
   "outputs": [
    {
     "name": "stdout",
     "output_type": "stream",
     "text": [
      "Set parameter TimeLimit to value 30\n"
     ]
    }
   ],
   "source": [
    "m = gp.Model(inst_name)\n",
    "m.Params.TimeLimit = 30"
   ]
  },
  {
   "cell_type": "code",
   "execution_count": 430,
   "metadata": {},
   "outputs": [],
   "source": [
    "x = {}\n",
    "# creating variables x_{v,s} for each substation v each substation type s\n",
    "for v in Vs:\n",
    "    for s in S: # for each substation type\n",
    "        x[(v,s)] = m.addVar(vtype=gp.GRB.BINARY, name=f\"x_{v}{s}\")\n",
    "# adding constraint that each substation must be of at most one type\n",
    "for v in Vs:\n",
    "    m.addConstr(gp.quicksum(x[(v,s)] for s in S) <= 1, name=f\"substation_type_{v}\")"
   ]
  },
  {
   "cell_type": "code",
   "execution_count": 431,
   "metadata": {},
   "outputs": [],
   "source": [
    "y = {}\n",
    "# creating variables y_{e,q} for each edge e (between land and substations) and each cable type q\n",
    "for e in E0:\n",
    "    for q in Q0:\n",
    "        y[(e,q)] = m.addVar(vtype=gp.GRB.BINARY, name=f\"y_{e}{q}\")\n",
    "# adding constraint that each edge must be of exactly one type, if cable is used\n",
    "for v in Vs:\n",
    "    e = (0, v)\n",
    "    m.addConstr(gp.quicksum(y[(e,q)] for q in Q0) == gp.quicksum(x[(v, s)] for s in S), name=f\"edge_type_{e}\")"
   ]
  },
  {
   "cell_type": "code",
   "execution_count": 432,
   "metadata": {},
   "outputs": [],
   "source": [
    "z = {}\n",
    "# creating variables z_e for each edge e (between substations and turbines)\n",
    "for e in Et:\n",
    "    z[e] = m.addVar(vtype=gp.GRB.BINARY, name=f\"z_{e}\")\n",
    "# adding constraint that a single cable is built from each wind turbine\n",
    "for t in Vt:\n",
    "    Etv = [e for e in Et if e[1] == t]\n",
    "    m.addConstr(gp.quicksum(z[e] for e in Etv) == 1, name=f\"turbine_{t}\")"
   ]
  },
  {
   "cell_type": "code",
   "execution_count": 433,
   "metadata": {},
   "outputs": [],
   "source": [
    "# creating variables y_{e,q} for each edge e (between substation and substation) and each cable type q\n",
    "for e in Es:\n",
    "    for q in Qs:\n",
    "        y[(e,q)] = m.addVar(vtype=gp.GRB.BINARY, name=f\"y_{e}{q}\")\n",
    "# adding constraint that each built substation can be connected to at most 1 other substation\n",
    "for v in Vs:\n",
    "    Esv = [e for e in Es if e[0] == v or e[1] == v]\n",
    "    m.addConstr(gp.quicksum(y[(e,q)] for e in Esv for q in Qs) <= gp.quicksum(x[(v,s)] for s in S), name=f\"substation_{v}\")"
   ]
  },
  {
   "cell_type": "code",
   "execution_count": 434,
   "metadata": {},
   "outputs": [],
   "source": [
    "# add constraint that each substation must be of one type if it is connected to a turbine or another substation\n",
    "for v in Vs:\n",
    "    for e in Et:\n",
    "        if e[0] == v:\n",
    "            m.addConstr((z[e] == 1) >> (gp.quicksum(x[(v,s)] for s in S) >= 1), name=f\"exists1_substation_{v}\")\n",
    "    for e in Es:\n",
    "        if e[0] == v or e[1] == v:\n",
    "            m.addConstr((y[(e,q)] == 1) >> (gp.quicksum(x[(v,s)] for s in S) >= 1), name=f\"exists2_substation_{v}\")"
   ]
  },
  {
   "cell_type": "code",
   "execution_count": 435,
   "metadata": {},
   "outputs": [],
   "source": [
    "# add constraint that many substations must be used\n",
    "for v in Vs:\n",
    "    Etv = [e for e in Et if e[0] == v]\n",
    "    m.addConstr(gp.quicksum(z[e] for e in Etv) <= ceil(len(Vt) / len(Vs)) + 120, name=f\"many_substations_{v}\")\n",
    "for v in Vs:\n",
    "    Etv = [e for e in Et if e[0] == v]\n",
    "    for s in S:\n",
    "        m.addConstr((x[v,s] == 1) >> (Pmax*gp.quicksum(z[e] for e in Etv) <= rs[s]))\n",
    "for e in E0:\n",
    "    v = e[1]\n",
    "    Etv = [e for e in Et if e[0] == v]\n",
    "    for q in Q0:\n",
    "        m.addConstr((y[e,q] == 1) >> (Pmax*gp.quicksum(z[e] for e in Etv) <= ls_rq[q]))"
   ]
  },
  {
   "cell_type": "code",
   "execution_count": 436,
   "metadata": {},
   "outputs": [
    {
     "data": {
      "text/plain": [
       "<gurobi.Constr *Awaiting Model Update*>"
      ]
     },
     "execution_count": 436,
     "metadata": {},
     "output_type": "execute_result"
    }
   ],
   "source": [
    "# add a few interco\n",
    "m.addConstr(gp.quicksum(y[(e,q)] for e in Es for q in Qs) >= 1)"
   ]
  },
  {
   "cell_type": "raw",
   "metadata": {},
   "source": [
    "pf = gp.quicksum((gp.quicksum(ps[s]*x[(v,s)] for s in S) + gp.quicksum(ls_pq[q]*y[((0,v),q)] for q in Q0)) for v in Vs)\n",
    "Cn1 = gp.quicksum(\n",
    "    Pmax*gp.quicksum(z[e] for e in Et if e[0] == v) - gp.quicksum(rs[s]*x[(v,s)] for s in S)\n",
    "    for v in Vs)\n",
    "Cn2 = gp.quicksum(\n",
    "    Pmax*gp.quicksum(z[e] for e in Et if e[0] == v) - gp.quicksum(ls_rq[q]*y[((0,v),q)] for q in Q0)\n",
    "    for v in Vs)\n",
    "Cn = Cn1 + Cn2\n",
    "cc = c0*Cn + cp*(Cn-Cmax)"
   ]
  },
  {
   "cell_type": "code",
   "execution_count": 437,
   "metadata": {},
   "outputs": [],
   "source": [
    "# objective function\n",
    "kappa = 0\n",
    "kappa2 = 0\n",
    "m.setObjective((\n",
    "    gp.quicksum((cs[s]+kappa*rs[s]*ps[s])*x[(v,s)] for s in S for v in Vs) +\n",
    "    gp.quicksum((ls_ceq[(e,q)]  + kappa2*ls_rq[q]*ls_pq[q])*y[(e,q)] for q in Q0 for e in E0) +\n",
    "    gp.quicksum(ss_ceq[(e,q)]*y[(e,q)] for q in Qs for e in Es) +\n",
    "    gp.quicksum(ce[e]*z[e] for e in Et)\n",
    "), gp.GRB.MINIMIZE)"
   ]
  },
  {
   "cell_type": "code",
   "execution_count": 438,
   "metadata": {},
   "outputs": [
    {
     "name": "stdout",
     "output_type": "stream",
     "text": [
      "Gurobi Optimizer version 10.0.1 build v10.0.1rc0 (linux64)\n",
      "\n",
      "CPU model: Intel(R) Core(TM) i5-10300H CPU @ 2.50GHz, instruction set [SSE2|AVX|AVX2]\n",
      "Thread count: 4 physical cores, 8 logical processors, using up to 8 threads\n",
      "\n",
      "Optimize a model with 269 rows, 18655 columns and 49805 nonzeros\n",
      "Model fingerprint: 0xd370bcd8\n",
      "Model has 7350 general constraints\n",
      "Variable types: 0 continuous, 18655 integer (18655 binary)\n",
      "Coefficient statistics:\n",
      "  Matrix range     [1e+00, 1e+00]\n",
      "  Objective range  [1e+01, 4e+03]\n",
      "  Bounds range     [1e+00, 1e+00]\n",
      "  RHS range        [1e+00, 1e+02]\n",
      "  GenCon rhs range [1e+00, 2e+03]\n",
      "  GenCon coe range [1e+00, 2e+01]\n",
      "Presolve added 5215 rows and 0 columns\n",
      "Presolve removed 0 rows and 12495 columns\n",
      "Presolve time: 1.65s\n",
      "Presolved: 5484 rows, 6160 columns, 45220 nonzeros\n",
      "Variable types: 0 continuous, 6160 integer (6125 binary)\n",
      "Found heuristic solution: objective 10317.047342\n",
      "\n",
      "Root relaxation: objective 2.874935e+03, 3370 iterations, 0.18 seconds (0.21 work units)\n",
      "\n",
      "    Nodes    |    Current Node    |     Objective Bounds      |     Work\n",
      " Expl Unexpl |  Obj  Depth IntInf | Incumbent    BestBd   Gap | It/Node Time\n",
      "\n",
      "     0     0 2874.93464    0  266 10317.0473 2874.93464  72.1%     -    1s\n",
      "H    0     0                    7282.2726675 2874.93464  60.5%     -    2s\n",
      "H    0     0                    7280.6006135 2874.93464  60.5%     -    2s\n",
      "H    0     0                    7280.5867302 2874.93464  60.5%     -    2s\n",
      "     0     0 2890.22382    0  266 7280.58673 2890.22382  60.3%     -    2s\n",
      "     0     0 3009.91977    0  403 7280.58673 3009.91977  58.7%     -    3s\n",
      "     0     0 3125.99604    0  266 7280.58673 3125.99604  57.1%     -    3s\n",
      "     0     0 3280.53668    0  271 7280.58673 3280.53668  54.9%     -    4s\n",
      "     0     0 3423.61966    0  266 7280.58673 3423.61966  53.0%     -    4s\n",
      "     0     0 3437.31197    0  266 7280.58673 3437.31197  52.8%     -    4s\n",
      "     0     0 3720.53533    0  266 7280.58673 3720.53533  48.9%     -    4s\n",
      "     0     0 3725.77791    0  266 7280.58673 3725.77791  48.8%     -    4s\n",
      "     0     0 3868.93505    0  269 7280.58673 3868.93505  46.9%     -    4s\n",
      "     0     0 4004.23876    0  266 7280.58673 4004.23876  45.0%     -    5s\n",
      "     0     0 4015.63459    0  266 7280.58673 4015.63459  44.8%     -    5s\n",
      "     0     0 4319.36150    0  266 7280.58673 4319.36150  40.7%     -    5s\n",
      "     0     0 4323.56101    0  266 7280.58673 4323.56101  40.6%     -    6s\n",
      "     0     0 4484.01370    0  406 7280.58673 4484.01370  38.4%     -    6s\n",
      "     0     0 4711.06630    0  557 7280.58673 4711.06630  35.3%     -    7s\n",
      "     0     0 4720.24619    0  624 7280.58673 4720.24619  35.2%     -    8s\n",
      "     0     0 4726.03936    0  547 7280.58673 4726.03936  35.1%     -    8s\n",
      "     0     0 4726.32567    0  568 7280.58673 4726.32567  35.1%     -    8s\n",
      "     0     0 4825.84161    0  455 7280.58673 4825.84161  33.7%     -    8s\n",
      "     0     0 4826.17925    0  412 7280.58673 4826.17925  33.7%     -    8s\n",
      "     0     0 4826.49176    0  411 7280.58673 4826.49176  33.7%     -    9s\n",
      "     0     0 4826.57099    0  487 7280.58673 4826.57099  33.7%     -    9s\n",
      "     0     0 4826.86561    0  486 7280.58673 4826.86561  33.7%     -    9s\n",
      "     0     0 4826.86561    0  486 7280.58673 4826.86561  33.7%     -    9s\n",
      "H    0     0                    7249.4224531 4826.86561  33.4%     -    9s\n",
      "     0     2 4826.86561    0  486 7249.42245 4826.86561  33.4%     -    9s\n",
      "     1     4 5013.41593    1  260 7249.42245 4826.89913  33.4%  1212   10s\n",
      "   124   121 5908.56706   30  256 7249.42245 4829.93580  33.4%   213   15s\n",
      "H  199   193                    7085.0588085 4829.93580  31.8%   180   15s\n",
      "H  382   381                    7082.9312681 4829.93580  31.8%   170   18s\n",
      "H  383   381                    7080.8044062 4829.93580  31.8%   170   18s\n",
      "   461   446 5162.70276   13  524 7080.80441 4830.21205  31.8%   184   20s\n",
      "H  537   520                    7061.3785465 4830.21205  31.6%   199   23s\n",
      "H  590   563                    7060.9023827 4830.21205  31.6%   207   25s\n",
      "   907   892 6984.44314  136  105 7060.90238 4843.54426  31.4%   223   30s\n",
      "\n",
      "Cutting planes:\n",
      "  Gomory: 3\n",
      "  Implied bound: 49\n",
      "  Zero half: 27\n",
      "\n",
      "Explored 960 nodes (232923 simplex iterations) in 30.01 seconds (24.74 work units)\n",
      "Thread count was 8 (of 8 available processors)\n",
      "\n",
      "Solution count 10: 7060.9 7061.38 7080.8 ... 10317\n",
      "\n",
      "Time limit reached\n",
      "Best objective 7.060902382740e+03, best bound 4.844142464298e+03, gap 31.3949%\n"
     ]
    }
   ],
   "source": [
    "m.optimize()"
   ]
  },
  {
   "cell_type": "code",
   "execution_count": 439,
   "metadata": {},
   "outputs": [],
   "source": [
    "substations = []\n",
    "for (v, s), val in x.items():\n",
    "    if val.x > 0.5:\n",
    "        e = (0, v) # in E0\n",
    "        for q in Q0:\n",
    "            if y[(e, q)].x > 0.5:\n",
    "                substations.append({\n",
    "                    \"id\": v,\n",
    "                    \"substation_type\": s,\n",
    "                    \"land_cable_type\": q\n",
    "                })\n",
    "\n",
    "substation_substation_cables = []\n",
    "for e in Es:\n",
    "    for q in Qs:\n",
    "        if y[(e, q)].x > 0.5:\n",
    "            substation_substation_cables.append({\n",
    "                \"substation_id\": e[0],\n",
    "                \"other_substation_id\": e[1],\n",
    "                \"cable_type\": q\n",
    "            })\n",
    "\n",
    "turbines = []\n",
    "for (v, t), val in z.items():\n",
    "    if val.x > 0.5:\n",
    "        turbines.append({\n",
    "            \"id\": t,\n",
    "            \"substation_id\": v\n",
    "        })"
   ]
  },
  {
   "cell_type": "code",
   "execution_count": 440,
   "metadata": {},
   "outputs": [],
   "source": [
    "# write solution to file\n",
    "with open(f\"solutions/{inst_name}.json\", \"w\") as f:\n",
    "    json.dump({\n",
    "        \"substations\": substations,\n",
    "        \"substation_substation_cables\": substation_substation_cables,\n",
    "        \"turbines\": turbines\n",
    "    }, f, indent=4)"
   ]
  },
  {
   "cell_type": "raw",
   "metadata": {},
   "source": [
    "pf = {}\n",
    "for v in Vs:\n",
    "    pf[v] = gp.quicksum(ps[s]*x[(v,s)] for s in S) + gp.quicksum(ls_pq[q]*y[((0,v),q)] for q in Q0)"
   ]
  },
  {
   "cell_type": "code",
   "execution_count": null,
   "metadata": {},
   "outputs": [],
   "source": []
  },
  {
   "cell_type": "code",
   "execution_count": null,
   "metadata": {},
   "outputs": [],
   "source": []
  },
  {
   "cell_type": "code",
   "execution_count": null,
   "metadata": {},
   "outputs": [],
   "source": []
  }
 ],
 "metadata": {
  "kernelspec": {
   "display_name": "perso",
   "language": "python",
   "name": "python3"
  },
  "language_info": {
   "codemirror_mode": {
    "name": "ipython",
    "version": 3
   },
   "file_extension": ".py",
   "mimetype": "text/x-python",
   "name": "python",
   "nbconvert_exporter": "python",
   "pygments_lexer": "ipython3",
   "version": "3.11.3"
  }
 },
 "nbformat": 4,
 "nbformat_minor": 2
}
